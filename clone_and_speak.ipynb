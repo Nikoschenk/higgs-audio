{
  "nbformat": 4,
  "nbformat_minor": 0,
  "metadata": {
    "colab": {
      "provenance": [],
      "gpuType": "T4",
      "authorship_tag": "ABX9TyNhSCwabt+qHk/Hz/elzyEk",
      "include_colab_link": true
    },
    "kernelspec": {
      "name": "python3",
      "display_name": "Python 3"
    },
    "language_info": {
      "name": "python"
    },
    "accelerator": "GPU"
  },
  "cells": [
    {
      "cell_type": "markdown",
      "metadata": {
        "id": "view-in-github",
        "colab_type": "text"
      },
      "source": [
        "<a href=\"https://colab.research.google.com/github/Nikoschenk/higgs-audio/blob/main/clone_and_speak.ipynb\" target=\"_parent\"><img src=\"https://colab.research.google.com/assets/colab-badge.svg\" alt=\"Open In Colab\"/></a>"
      ]
    },
    {
      "cell_type": "code",
      "execution_count": null,
      "metadata": {
        "id": "sKsRQJyvcenc"
      },
      "outputs": [],
      "source": [
        "!pip install soundfile tqdm\n",
        "\n",
        "# Step 1: Clone and change into repo directory & install requirements.\n",
        "!git clone https://github.com/Nikoschenk/higgs-audio.git\n",
        "%cd higgs-audio\n",
        "!pip install huggingface_hub\n",
        "from huggingface_hub import snapshot_download\n",
        "snapshot_download(repo_id=\"bosonai/higgs-audio-v2-generation-3B-base\", local_dir=\"model\")\n",
        "\n",
        "!pip install transformers==4.41.2 loguru click pyyaml\n",
        "!apt-get install -y libsndfile1\n",
        "!pip install \"numpy<2.0\" --upgrade --quiet\n",
        "!pip install \"dacite\" --quiet\n",
        "!pip install vector-quantize-pytorch --quiet\n",
        "# ✅ Install from GitHub (not PyPI!)\n",
        "!pip install git+https://github.com/descriptinc/audiotools.git --quiet\n",
        "\n",
        "import os\n",
        "print(os.listdir())\n",
        "!touch boson_multimodal/__init__.py\n",
        "!touch boson_multimodal/audio_processing/__init__.py\n",
        "!touch boson_multimodal/audio_processing/descriptaudiocodec/__init__.py\n",
        "!touch boson_multimodal/audio_processing/descriptaudiocodec/dac/__init__.py\n",
        "\n",
        "\n",
        "# Clone Descript Audio Codec repo into the correct subdir\n",
        "!git clone https://github.com/descriptinc/descript-audio-codec.git boson_multimodal/audio_processing/descriptaudiocodec/dac\n",
        "\n",
        "# Fix missing __init__.py files\n",
        "!touch boson_multimodal/__init__.py\n",
        "!touch boson_multimodal/audio_processing/__init__.py\n",
        "!touch boson_multimodal/audio_processing/descriptaudiocodec/__init__.py\n",
        "!touch boson_multimodal/audio_processing/descriptaudiocodec/dac/__init__.py\n",
        "\n",
        "# Install dependencies\n",
        "!pip install -r requirements.txt\n",
        "!pip install -e .\n",
        "!pip install pyctcdecode phonemizer g2p-en jieba langid dacite vector-quantize-pytorch\n",
        "\n",
        "# Install `audiotools` (Descript's)\n",
        "!pip install git+https://github.com/descriptinc/audiotools.git\n",
        "\n",
        "# Reinstall compatible versions (PyTorch 2.2.2 with torchvision 0.17.2)\n",
        "!pip install -q --index-url https://download.pytorch.org/whl/cu121 torch==2.4.1 torchvision==0.19.1 torchaudio==2.4.1\n",
        "\n",
        "# Remove torchao which is NOT required by your project but causes errors\n",
        "!pip uninstall -y torchao"
      ]
    },
    {
      "cell_type": "code",
      "source": [
        "import os\n",
        "print(os.listdir())\n",
        "from google.colab import files\n",
        "# You ned to upload 3 files.\n",
        "# 1) An audio recording, e.g., 1 minute, converted to .wav, e.g., \"ni_de.wav\".\n",
        "# 2) A corresponding file containing the transcription of 1), e.g., \"ni_de.txt\".\n",
        "# 3) A text file of what you want the TTS engine to speak, e.g., \"de_test_ni.txt\".\n",
        "uploaded = files.upload()\n",
        "# Show uploaded files.\n",
        "print(os.listdir())"
      ],
      "metadata": {
        "id": "Lk6bch65fA4o"
      },
      "execution_count": null,
      "outputs": []
    },
    {
      "cell_type": "code",
      "source": [
        "import shutil\n",
        "print(os.listdir())\n",
        "# Place the audio files into the correct directories.\n",
        "shutil.move(\"ni_de.txt\", \"examples/voice_prompts/ni_de.txt\")\n",
        "shutil.move(\"ni_de.wav\", \"examples/voice_prompts/ni_de.wav\")\n",
        "shutil.move(\"de_test_ni.txt\", \"examples/transcript/single_speaker/de_test_ni.txt\")\n",
        "print(os.listdir())"
      ],
      "metadata": {
        "id": "z4js5LVmfFlz"
      },
      "execution_count": null,
      "outputs": []
    },
    {
      "cell_type": "code",
      "source": [
        "%cd /content/higgs-audio\n",
        "\n",
        "# Remove TF/JAX so Transformers won't import TensorFlow paths at all\n",
        "!pip uninstall -y -q tensorflow tensorflow-cpu tensorflow-text tensorflow-io tensorflow-intel tf-nightly keras jax jaxlib || true\n",
        "\n",
        "# (Optional) quick sanity check that TF is gone\n",
        "import importlib.util\n",
        "print(\"tensorflow present?\", importlib.util.find_spec(\"tensorflow\") is not None)\n",
        "\n",
        "# Run with TF disabled (belt-and-suspenders)\n",
        "!TRANSFORMERS_NO_TF=1 TF_CPP_MIN_LOG_LEVEL=3 HF_HUB_DISABLE_SYMLINKS_WARNING=1 \\\n",
        "python examples/generation.py \\\n",
        "  --model_path model \\\n",
        "  --audio_tokenizer bosonai/higgs-audio-v2-tokenizer \\\n",
        "  --transcript examples/transcript/single_speaker/de_test_ni.txt \\\n",
        "  --ref_audio ni_de \\\n",
        "  --seed 7788 \\\n",
        "  --out_path /content/output.wav \\\n",
        "  --device auto \\\n",
        "  --use_static_kv_cache 0\n"
      ],
      "metadata": {
        "id": "mwe8TlrefiW2"
      },
      "execution_count": null,
      "outputs": []
    },
    {
      "cell_type": "code",
      "source": [
        "# Listen to the audio.\n",
        "from IPython.display import Audio\n",
        "Audio(\"/content/output.wav\", rate=24000)\n",
        "# Save the audio.\n",
        "from google.colab import files\n",
        "files.download(\"/content/output.wav\")"
      ],
      "metadata": {
        "colab": {
          "base_uri": "https://localhost:8080/",
          "height": 17
        },
        "id": "5udzq8UPiK6L",
        "outputId": "a1d79d9b-57e6-458f-ad22-975cd50b12ca"
      },
      "execution_count": 5,
      "outputs": [
        {
          "output_type": "display_data",
          "data": {
            "text/plain": [
              "<IPython.core.display.Javascript object>"
            ],
            "application/javascript": [
              "\n",
              "    async function download(id, filename, size) {\n",
              "      if (!google.colab.kernel.accessAllowed) {\n",
              "        return;\n",
              "      }\n",
              "      const div = document.createElement('div');\n",
              "      const label = document.createElement('label');\n",
              "      label.textContent = `Downloading \"${filename}\": `;\n",
              "      div.appendChild(label);\n",
              "      const progress = document.createElement('progress');\n",
              "      progress.max = size;\n",
              "      div.appendChild(progress);\n",
              "      document.body.appendChild(div);\n",
              "\n",
              "      const buffers = [];\n",
              "      let downloaded = 0;\n",
              "\n",
              "      const channel = await google.colab.kernel.comms.open(id);\n",
              "      // Send a message to notify the kernel that we're ready.\n",
              "      channel.send({})\n",
              "\n",
              "      for await (const message of channel.messages) {\n",
              "        // Send a message to notify the kernel that we're ready.\n",
              "        channel.send({})\n",
              "        if (message.buffers) {\n",
              "          for (const buffer of message.buffers) {\n",
              "            buffers.push(buffer);\n",
              "            downloaded += buffer.byteLength;\n",
              "            progress.value = downloaded;\n",
              "          }\n",
              "        }\n",
              "      }\n",
              "      const blob = new Blob(buffers, {type: 'application/binary'});\n",
              "      const a = document.createElement('a');\n",
              "      a.href = window.URL.createObjectURL(blob);\n",
              "      a.download = filename;\n",
              "      div.appendChild(a);\n",
              "      a.click();\n",
              "      div.remove();\n",
              "    }\n",
              "  "
            ]
          },
          "metadata": {}
        },
        {
          "output_type": "display_data",
          "data": {
            "text/plain": [
              "<IPython.core.display.Javascript object>"
            ],
            "application/javascript": [
              "download(\"download_2d64a97b-a49b-43d1-9f7c-fb071e8b6894\", \"output.wav\", 775724)"
            ]
          },
          "metadata": {}
        }
      ]
    }
  ]
}